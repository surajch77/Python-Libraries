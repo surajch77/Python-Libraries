{
 "cells": [
  {
   "cell_type": "code",
   "execution_count": 1,
   "metadata": {},
   "outputs": [],
   "source": [
    "import tensorflow as tf"
   ]
  },
  {
   "cell_type": "code",
   "execution_count": 2,
   "metadata": {},
   "outputs": [
    {
     "name": "stdout",
     "output_type": "stream",
     "text": [
      "Hello World\n"
     ]
    }
   ],
   "source": [
    "sess = tf.Session()\n",
    "hello = tf.constant(\"Hello World\")\n",
    "print sess.run(hello)"
   ]
  },
  {
   "cell_type": "code",
   "execution_count": 3,
   "metadata": {},
   "outputs": [],
   "source": [
    "a = tf.constant(20)\n",
    "b = tf.constant(30)"
   ]
  },
  {
   "cell_type": "code",
   "execution_count": 4,
   "metadata": {},
   "outputs": [
    {
     "name": "stdout",
     "output_type": "stream",
     "text": [
      "50\n"
     ]
    }
   ],
   "source": [
    "print sess.run(a + b)"
   ]
  },
  {
   "cell_type": "markdown",
   "metadata": {},
   "source": [
    "### House Price Prediction"
   ]
  },
  {
   "cell_type": "markdown",
   "metadata": {},
   "source": [
    "This is a very simple prediction of house prices based on house size, implemented \n",
    "in TensorFlow."
   ]
  },
  {
   "cell_type": "code",
   "execution_count": 6,
   "metadata": {},
   "outputs": [],
   "source": [
    "import tensorflow as tf\n",
    "import numpy as np\n",
    "import math\n",
    "import matplotlib.pyplot as plt\n",
    "import matplotlib.animation as animation # import animation support"
   ]
  },
  {
   "cell_type": "markdown",
   "metadata": {},
   "source": [
    "generation some house sizes between 1000 and 3500 (typical sq ft of house)"
   ]
  },
  {
   "cell_type": "code",
   "execution_count": 7,
   "metadata": {},
   "outputs": [],
   "source": [
    "num_house = 160\n",
    "np.random.seed(42)\n",
    "house_size = np.random.randint(low=1000, high=3500, size=num_house )"
   ]
  },
  {
   "cell_type": "code",
   "execution_count": 8,
   "metadata": {},
   "outputs": [
    {
     "data": {
      "text/plain": [
       "array([1860, 2294, 2130, 2095, 2638, 3169, 1466, 2238, 1330, 2482, 3135,\n",
       "       1130, 2685, 1769, 3391, 2515, 3433, 2215, 1955, 3324, 2184, 1459,\n",
       "       1021, 3300, 1747, 1474, 2082, 3047, 1975, 2806, 1189, 1562, 2899,\n",
       "       2267, 2528, 1646, 3068, 3214, 2297, 3435, 1600, 3363, 3061, 1241,\n",
       "       3041, 2363, 3139, 2390, 2478, 1775, 1034, 3253, 2955, 2585, 2021,\n",
       "       2129, 2500, 1702, 3449, 2579, 1161, 1201, 2981, 1995, 3317, 1815,\n",
       "       1455, 2275, 2016, 3343, 1337, 1878, 2076, 1791, 3264, 1763, 3235,\n",
       "       1379, 1492, 2180, 3062, 1064, 2367, 2152, 3027, 2495, 2162, 2522,\n",
       "       1391, 2698, 1418, 3336, 1378, 2796, 3278, 3088, 3182, 1200, 2863,\n",
       "       1779, 1502, 3454, 2751, 1804, 3146, 2895, 2570, 1960, 2485, 2028,\n",
       "       1502, 1397, 1870, 1392, 1206, 2038, 2881, 2484, 1863, 1563, 2020,\n",
       "       1095, 2923, 2757, 3278, 2678, 1540, 2059, 2183, 2722, 2819, 2597,\n",
       "       1795, 2051, 2643, 2363, 2981, 2354, 2663, 2529, 3038, 2496, 3237,\n",
       "       2408, 2400, 2306, 1972, 2768, 2282, 1709, 2479, 2434, 1648, 1317,\n",
       "       2257, 1683, 1663, 2998, 2631, 2495])"
      ]
     },
     "execution_count": 8,
     "metadata": {},
     "output_type": "execute_result"
    }
   ],
   "source": [
    "house_size"
   ]
  },
  {
   "cell_type": "markdown",
   "metadata": {},
   "source": [
    "Generate house prices from house size with a random noise added."
   ]
  },
  {
   "cell_type": "code",
   "execution_count": 9,
   "metadata": {},
   "outputs": [],
   "source": [
    "np.random.seed(42)\n",
    "house_price = house_size * 100.0 + np.random.randint(low=20000, high=70000, size=num_house)"
   ]
  },
  {
   "cell_type": "code",
   "execution_count": 10,
   "metadata": {},
   "outputs": [
    {
     "data": {
      "text/plain": [
       "array([221795., 250260., 271158., 274232., 295084., 343165., 183450.,\n",
       "       280994., 174962., 315391., 377631., 149023., 329590., 198585.,\n",
       "       359869., 273933., 368611., 279319., 254688., 369968., 258169.,\n",
       "       194593., 128496., 377480., 236134., 193058., 247142., 343131.,\n",
       "       220247., 300789., 158018., 211973., 311799., 247967., 304351.,\n",
       "       195994., 330356., 345290., 291306., 394240., 194502., 378077.,\n",
       "       336727., 152892., 367423., 299321., 342333., 302001., 278816.,\n",
       "       221397., 126012., 368783., 364055., 295659., 267074., 273894.,\n",
       "       284541., 226120., 391431., 279485., 140043., 164039., 337557.,\n",
       "       220521., 363353., 245073., 178917., 288257., 231292., 400058.,\n",
       "       160573., 213475., 227761., 236165., 372957., 230063., 376106.,\n",
       "       169434., 198327., 278397., 352051., 127416., 280953., 259476.,\n",
       "       345947., 293800., 244729., 289462., 168368., 311071., 173985.,\n",
       "       374843., 196899., 308171., 387776., 366844., 387416., 188984.,\n",
       "       347074., 200468., 172227., 368095., 343290., 205658., 356602.,\n",
       "       349004., 310159., 229986., 281166., 261460., 173761., 186554.,\n",
       "       245952., 181862., 148992., 254335., 321167., 316433., 229899.,\n",
       "       211522., 233837., 143539., 343118., 314815., 358765., 312338.,\n",
       "       216530., 230956., 270782., 339916., 310010., 293473., 226766.,\n",
       "       242512., 317570., 263210., 363553., 280846., 286506., 294418.,\n",
       "       346161., 293019., 392402., 302323., 305151., 273003., 235341.,\n",
       "       311620., 288542., 197274., 269578., 297227., 200998., 161614.,\n",
       "       273590., 210599., 229885., 363489., 325657., 318580.])"
      ]
     },
     "execution_count": 10,
     "metadata": {},
     "output_type": "execute_result"
    }
   ],
   "source": [
    "house_price"
   ]
  },
  {
   "cell_type": "code",
   "execution_count": 11,
   "metadata": {},
   "outputs": [
    {
     "data": {
      "image/png": "[encoded data removed]",
      "text/plain": [
       "<Figure size 432x288 with 1 Axes>"
      ]
     },
     "metadata": {},
     "output_type": "display_data"
    }
   ],
   "source": [
    "plt.plot(house_size, house_price, \"bx\")  # bx = blue x\n",
    "plt.ylabel(\"Price\")\n",
    "plt.xlabel(\"Size\")\n",
    "plt.show()"
   ]
  },
  {
   "cell_type": "code",
   "execution_count": 13,
   "metadata": {},
   "outputs": [],
   "source": [
    "# you need to normalize values to prevent under/overflows.\n",
    "def normalize(array):\n",
    "    return (array - array.mean()) / array.std()"
   ]
  },
  {
   "cell_type": "code",
   "execution_count": 16,
   "metadata": {},
   "outputs": [],
   "source": [
    "# define number of training samples, 0.7 = 70%.  We can take the first 70% since the values are randomized\n",
    "num_train_samples = int(math.floor(num_house * 0.7))"
   ]
  },
  {
   "cell_type": "code",
   "execution_count": 17,
   "metadata": {},
   "outputs": [],
   "source": [
    "# define training data\n",
    "train_house_size = np.asarray(house_size[:num_train_samples])\n",
    "train_price = np.asanyarray(house_price[:num_train_samples:])\n",
    "\n",
    "train_house_size_norm = normalize(train_house_size)\n",
    "train_price_norm = normalize(train_price)"
   ]
  },
  {
   "cell_type": "code",
   "execution_count": 18,
   "metadata": {},
   "outputs": [],
   "source": [
    "# define test data\n",
    "test_house_size = np.array(house_size[num_train_samples:])\n",
    "test_house_price = np.array(house_price[num_train_samples:])\n",
    "\n",
    "test_house_size_norm = normalize(test_house_size)\n",
    "test_house_price_norm = normalize(test_house_price)"
   ]
  },
  {
   "cell_type": "code",
   "execution_count": 23,
   "metadata": {},
   "outputs": [
    {
     "data": {
      "text/plain": [
       "array([1860, 2294, 2130, 2095, 2638, 3169, 1466, 2238, 1330, 2482, 3135,\n",
       "       1130, 2685, 1769, 3391, 2515, 3433, 2215, 1955, 3324, 2184, 1459,\n",
       "       1021, 3300, 1747, 1474, 2082, 3047, 1975, 2806, 1189, 1562, 2899,\n",
       "       2267, 2528, 1646, 3068, 3214, 2297, 3435, 1600, 3363, 3061, 1241,\n",
       "       3041, 2363, 3139, 2390, 2478, 1775, 1034, 3253, 2955, 2585, 2021,\n",
       "       2129, 2500, 1702, 3449, 2579, 1161, 1201, 2981, 1995, 3317, 1815,\n",
       "       1455, 2275, 2016, 3343, 1337, 1878, 2076, 1791, 3264, 1763, 3235,\n",
       "       1379, 1492, 2180, 3062, 1064, 2367, 2152, 3027, 2495, 2162, 2522,\n",
       "       1391, 2698, 1418, 3336, 1378, 2796, 3278, 3088, 3182, 1200, 2863,\n",
       "       1779, 1502, 3454, 2751, 1804, 3146, 2895, 2570, 1960, 2485, 2028,\n",
       "       1502, 1397])"
      ]
     },
     "execution_count": 23,
     "metadata": {},
     "output_type": "execute_result"
    }
   ],
   "source": [
    "train_house_size"
   ]
  },
  {
   "cell_type": "code",
   "execution_count": 20,
   "metadata": {},
   "outputs": [
    {
     "data": {
      "text/plain": [
       "array([221795., 250260., 271158., 274232., 295084., 343165., 183450.,\n",
       "       280994., 174962., 315391., 377631., 149023., 329590., 198585.,\n",
       "       359869., 273933., 368611., 279319., 254688., 369968., 258169.,\n",
       "       194593., 128496., 377480., 236134., 193058., 247142., 343131.,\n",
       "       220247., 300789., 158018., 211973., 311799., 247967., 304351.,\n",
       "       195994., 330356., 345290., 291306., 394240., 194502., 378077.,\n",
       "       336727., 152892., 367423., 299321., 342333., 302001., 278816.,\n",
       "       221397., 126012., 368783., 364055., 295659., 267074., 273894.,\n",
       "       284541., 226120., 391431., 279485., 140043., 164039., 337557.,\n",
       "       220521., 363353., 245073., 178917., 288257., 231292., 400058.,\n",
       "       160573., 213475., 227761., 236165., 372957., 230063., 376106.,\n",
       "       169434., 198327., 278397., 352051., 127416., 280953., 259476.,\n",
       "       345947., 293800., 244729., 289462., 168368., 311071., 173985.,\n",
       "       374843., 196899., 308171., 387776., 366844., 387416., 188984.,\n",
       "       347074., 200468., 172227., 368095., 343290., 205658., 356602.,\n",
       "       349004., 310159., 229986., 281166., 261460., 173761., 186554.])"
      ]
     },
     "execution_count": 20,
     "metadata": {},
     "output_type": "execute_result"
    }
   ],
   "source": [
    "train_price"
   ]
  },
  {
   "cell_type": "code",
   "execution_count": 28,
   "metadata": {},
   "outputs": [],
   "source": [
    "#  Set up the TensorFlow placeholders that get updated as we descend down the gradient\n",
    "tf_house_size = tf.placeholder(\"float\", name=\"house_size\")\n",
    "tf_price = tf.placeholder(\"float\", name=\"price\")"
   ]
  },
  {
   "cell_type": "code",
   "execution_count": 29,
   "metadata": {},
   "outputs": [],
   "source": [
    "# Define the variables holding the size_factor and price we set during training.  \n",
    "# We initialize them to some random values based on the normal distribution.\n",
    "tf_size_factor = tf.Variable(np.random.randn(), name=\"size_factor\")\n",
    "tf_price_offset = tf.Variable(np.random.randn(), name=\"price_offset\")"
   ]
  },
  {
   "cell_type": "code",
   "execution_count": 30,
   "metadata": {},
   "outputs": [],
   "source": [
    "# 2. Define the operations for the predicting values - predicted price = (size_factor * house_size ) + price_offset\n",
    "#  Notice, the use of the tensorflow add and multiply functions.  These add the operations to the computation graph,\n",
    "#  AND the tensorflow methods understand how to deal with Tensors.  Therefore do not try to use numpy or other library \n",
    "#  methods.\n",
    "tf_price_pred = tf.add(tf.multiply(tf_size_factor, tf_house_size), tf_price_offset)"
   ]
  },
  {
   "cell_type": "code",
   "execution_count": 31,
   "metadata": {},
   "outputs": [],
   "source": [
    "# 3. Define the Loss Function (how much error) - Mean squared error\n",
    "tf_cost = tf.reduce_sum(tf.pow(tf_price_pred-tf_price, 2))/(2*num_train_samples)"
   ]
  },
  {
   "cell_type": "code",
   "execution_count": 32,
   "metadata": {},
   "outputs": [],
   "source": [
    "# Optimizer learning rate.  The size of the steps down the gradient\n",
    "learning_rate = 0.1\n",
    "\n",
    "# 4. define a Gradient descent optimizer that will minimize the loss defined in the operation \"cost\".\n",
    "optimizer = tf.train.GradientDescentOptimizer(learning_rate).minimize(tf_cost)"
   ]
  },
  {
   "cell_type": "code",
   "execution_count": 33,
   "metadata": {},
   "outputs": [],
   "source": [
    "# Initializing the variables\n",
    "init = tf.global_variables_initializer()"
   ]
  },
  {
   "cell_type": "code",
   "execution_count": 38,
   "metadata": {},
   "outputs": [
    {
     "name": "stdout",
     "output_type": "stream",
     "text": [
      "('iteration #:', '0002', 'cost=', '0.720058858', 'size_factor=', 0.091779955, 'price_offset=', -0.78197587)\n",
      "('iteration #:', '0004', 'cost=', '0.488989949', 'size_factor=', 0.2530591, 'price_offset=', -0.6400547)\n",
      "('iteration #:', '0006', 'cost=', '0.334198892', 'size_factor=', 0.38506955, 'price_offset=', -0.52387947)\n",
      "('iteration #:', '0008', 'cost=', '0.230510548', 'size_factor=', 0.4931228, 'price_offset=', -0.42877954)\n",
      "('iteration #:', '0010', 'cost=', '0.161057353', 'size_factor=', 0.5815667, 'price_offset=', -0.350931)\n",
      "('iteration #:', '0012', 'cost=', '0.114538938', 'size_factor=', 0.65396035, 'price_offset=', -0.2872049)\n",
      "('iteration #:', '0014', 'cost=', '0.083384469', 'size_factor=', 0.713216, 'price_offset=', -0.23503916)\n",
      "('iteration #:', '0016', 'cost=', '0.062521778', 'size_factor=', 0.76171756, 'price_offset=', -0.19233663)\n",
      "('iteration #:', '0018', 'cost=', '0.048552588', 'size_factor=', 0.8014175, 'price_offset=', -0.1573807)\n",
      "('iteration #:', '0020', 'cost=', '0.039200630', 'size_factor=', 0.8339127, 'price_offset=', -0.1287661)\n",
      "('iteration #:', '0022', 'cost=', '0.032940891', 'size_factor=', 0.86051065, 'price_offset=', -0.10534229)\n",
      "('iteration #:', '0024', 'cost=', '0.028751852', 'size_factor=', 0.882282, 'price_offset=', -0.08616769)\n",
      "('iteration #:', '0026', 'cost=', '0.025949385', 'size_factor=', 0.90010184, 'price_offset=', -0.070471555)\n",
      "('iteration #:', '0028', 'cost=', '0.024075126', 'size_factor=', 0.9146879, 'price_offset=', -0.057622794)\n",
      "('iteration #:', '0030', 'cost=', '0.022822181', 'size_factor=', 0.92662656, 'price_offset=', -0.047104843)\n",
      "('iteration #:', '0032', 'cost=', '0.021984996', 'size_factor=', 0.9363989, 'price_offset=', -0.038494956)\n",
      "('iteration #:', '0034', 'cost=', '0.021425983', 'size_factor=', 0.9443974, 'price_offset=', -0.031446975)\n",
      "('iteration #:', '0036', 'cost=', '0.021052983', 'size_factor=', 0.9509445, 'price_offset=', -0.025677538)\n",
      "('iteration #:', '0038', 'cost=', '0.020804334', 'size_factor=', 0.9563038, 'price_offset=', -0.02095472)\n",
      "('iteration #:', '0040', 'cost=', '0.020638786', 'size_factor=', 0.96069014, 'price_offset=', -0.01708865)\n",
      "('iteration #:', '0042', 'cost=', '0.020528717', 'size_factor=', 0.9642808, 'price_offset=', -0.013923926)\n",
      "('iteration #:', '0044', 'cost=', '0.020455671', 'size_factor=', 0.96721953, 'price_offset=', -0.011333294)\n",
      "('iteration #:', '0046', 'cost=', '0.020407302', 'size_factor=', 0.96962523, 'price_offset=', -0.009212625)\n",
      "('iteration #:', '0048', 'cost=', '0.020375365', 'size_factor=', 0.97159415, 'price_offset=', -0.0074766637)\n",
      "('iteration #:', '0050', 'cost=', '0.020354355', 'size_factor=', 0.97320557, 'price_offset=', -0.0060556126)\n",
      "Optimization Finished!\n",
      "('Trained cost=', 0.020354355, 'size_factor=', 0.97320557, 'price_offset=', -0.0060556126, '\\n')\n"
     ]
    },
    {
     "data": {
      "image/png": "[encoded data removed]",
      "text/plain": [
       "<Figure size 720x576 with 1 Axes>"
      ]
     },
     "metadata": {},
     "output_type": "display_data"
    }
   ],
   "source": [
    "# Launch the graph in the session\n",
    "with tf.Session() as sess:\n",
    "    sess.run(init)\n",
    "\n",
    "    # set how often to display training progress and number of training iterations\n",
    "    display_every = 2\n",
    "    num_training_iter = 50\n",
    "\n",
    "   # keep iterating the training data\n",
    "    for iteration in range(num_training_iter):\n",
    "\n",
    "        # Fit all training data\n",
    "        for (x, y) in zip(train_house_size_norm, train_price_norm):\n",
    "            sess.run(optimizer, feed_dict={tf_house_size: x, tf_price: y})\n",
    "\n",
    "        # Display current status\n",
    "        if (iteration + 1) % display_every == 0:\n",
    "            c = sess.run(tf_cost, feed_dict={tf_house_size: train_house_size_norm, tf_price:train_price_norm})\n",
    "            print(\"iteration #:\", '%04d' % (iteration + 1), \"cost=\", \"{:.9f}\".format(c), \\\n",
    "                \"size_factor=\", sess.run(tf_size_factor), \"price_offset=\", sess.run(tf_price_offset))\n",
    "\n",
    "    print(\"Optimization Finished!\")\n",
    "    training_cost = sess.run(tf_cost, feed_dict={tf_house_size: train_house_size_norm, tf_price: train_price_norm})\n",
    "    print(\"Trained cost=\", training_cost, \"size_factor=\", sess.run(tf_size_factor), \"price_offset=\", sess.run(tf_price_offset), '\\n')\n",
    "\n",
    "\n",
    "   # Plot of training and test data, and learned regression\n",
    "    \n",
    "    # get values used to normalized data so we can denormalize data back to its original scale\n",
    "    train_house_size_mean = train_house_size.mean()\n",
    "    train_house_size_std = train_house_size.std()\n",
    "\n",
    "    train_price_mean = train_price.mean()\n",
    "    train_price_std = train_price.std()\n",
    "\n",
    "    # Plot the graph\n",
    "    plt.rcParams[\"figure.figsize\"] = (10,8)\n",
    "    plt.figure()\n",
    "    plt.ylabel(\"Price\")\n",
    "    plt.xlabel(\"Size (sq.ft)\")\n",
    "    plt.plot(train_house_size, train_price, 'go', label='Training data')\n",
    "    plt.plot(test_house_size, test_house_price, 'mo', label='Testing data')\n",
    "    plt.plot(train_house_size_norm * train_house_size_std + train_house_size_mean,\n",
    "             (sess.run(tf_size_factor) * train_house_size_norm + sess.run(tf_price_offset)) * train_price_std + train_price_mean,\n",
    "             label='Learned Regression')\n",
    " \n",
    "    plt.legend(loc='upper left')\n",
    "    plt.show()\n"
   ]
  },
  {
   "cell_type": "code",
   "execution_count": null,
   "metadata": {},
   "outputs": [],
   "source": []
  }
 ],
 "metadata": {
  "kernelspec": {
   "display_name": "Python 2",
   "language": "python",
   "name": "python2"
  },
  "language_info": {
   "codemirror_mode": {
    "name": "ipython",
    "version": 2
   },
   "file_extension": ".py",
   "mimetype": "text/x-python",
   "name": "python",
   "nbconvert_exporter": "python",
   "pygments_lexer": "ipython2",
   "version": "2.7.15"
  }
 },
 "nbformat": 4,
 "nbformat_minor": 2
}
