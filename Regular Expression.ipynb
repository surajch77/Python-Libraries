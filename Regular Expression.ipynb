{
 "cells": [
  {
   "cell_type": "code",
   "execution_count": 1,
   "metadata": {},
   "outputs": [],
   "source": [
    "import re"
   ]
  },
  {
   "cell_type": "code",
   "execution_count": 2,
   "metadata": {},
   "outputs": [],
   "source": [
    "name = '''\n",
    "Janice is 22 and Theon is 33\n",
    "Gabriel is 44 and Joey is 21\n",
    "'''"
   ]
  },
  {
   "cell_type": "code",
   "execution_count": 7,
   "metadata": {},
   "outputs": [],
   "source": [
    "ages = re.findall(r'\\d{1,3}', name)\n",
    "names = re.findall(r'[A-Z][a-z]*', name)"
   ]
  },
  {
   "cell_type": "code",
   "execution_count": 11,
   "metadata": {},
   "outputs": [
    {
     "name": "stdout",
     "output_type": "stream",
     "text": [
      "['22', '33', '44', '21'] ['Janice', 'Theon', 'Gabriel', 'Joey']\n"
     ]
    }
   ],
   "source": [
    "print ages, names"
   ]
  },
  {
   "cell_type": "code",
   "execution_count": 16,
   "metadata": {},
   "outputs": [],
   "source": [
    "allinform = re.findall('inform', \"we need to find all inform in latest information\")"
   ]
  },
  {
   "cell_type": "code",
   "execution_count": 17,
   "metadata": {},
   "outputs": [
    {
     "name": "stdout",
     "output_type": "stream",
     "text": [
      "inform\n",
      "inform\n"
     ]
    }
   ],
   "source": [
    "for i in allinform:\n",
    "    print i"
   ]
  },
  {
   "cell_type": "code",
   "execution_count": 19,
   "metadata": {},
   "outputs": [],
   "source": [
    "st = \"we need to find all inform in latest information\""
   ]
  },
  {
   "cell_type": "code",
   "execution_count": 20,
   "metadata": {},
   "outputs": [
    {
     "name": "stdout",
     "output_type": "stream",
     "text": [
      "(20, 26)\n",
      "(37, 43)\n"
     ]
    }
   ],
   "source": [
    "for i in re.finditer('inform', st):\n",
    "    loc = i.span()\n",
    "    print loc"
   ]
  },
  {
   "cell_type": "code",
   "execution_count": 29,
   "metadata": {},
   "outputs": [],
   "source": [
    "st = \"Sat, mat, pat, chat, cat\"\n",
    "allstr = re.findall(\"[Smpch]at\", st)"
   ]
  },
  {
   "cell_type": "code",
   "execution_count": 30,
   "metadata": {},
   "outputs": [
    {
     "name": "stdout",
     "output_type": "stream",
     "text": [
      "Sat\n",
      "mat\n",
      "pat\n",
      "hat\n",
      "cat\n"
     ]
    }
   ],
   "source": [
    "for i in allstr:\n",
    "    print i"
   ]
  },
  {
   "cell_type": "code",
   "execution_count": 31,
   "metadata": {},
   "outputs": [
    {
     "name": "stdout",
     "output_type": "stream",
     "text": [
      "mat\n",
      "hat\n"
     ]
    }
   ],
   "source": [
    "allstr = re.findall(\"[h-m]at\", st)\n",
    "for i in allstr:\n",
    "    print i"
   ]
  },
  {
   "cell_type": "code",
   "execution_count": 33,
   "metadata": {},
   "outputs": [
    {
     "name": "stdout",
     "output_type": "stream",
     "text": [
      "Sat\n",
      "pat\n",
      "cat\n"
     ]
    }
   ],
   "source": [
    "allstr = re.findall(\"[^h-m]at\", st)\n",
    "for i in allstr:\n",
    "    print i"
   ]
  },
  {
   "cell_type": "code",
   "execution_count": 34,
   "metadata": {},
   "outputs": [],
   "source": [
    "food = \"hat rat mat pat\""
   ]
  },
  {
   "cell_type": "code",
   "execution_count": 36,
   "metadata": {},
   "outputs": [
    {
     "name": "stdout",
     "output_type": "stream",
     "text": [
      "hat food mat pat\n"
     ]
    }
   ],
   "source": [
    "regex = re.compile(\"[r]at\")\n",
    "changedFood = regex.sub(\"food\", food)\n",
    "print changedFood"
   ]
  },
  {
   "cell_type": "code",
   "execution_count": 37,
   "metadata": {},
   "outputs": [],
   "source": [
    "st = \"here is \\\\drogba\""
   ]
  },
  {
   "cell_type": "code",
   "execution_count": 38,
   "metadata": {},
   "outputs": [
    {
     "name": "stdout",
     "output_type": "stream",
     "text": [
      "here is \\drogba\n"
     ]
    }
   ],
   "source": [
    "print st"
   ]
  },
  {
   "cell_type": "code",
   "execution_count": 40,
   "metadata": {},
   "outputs": [
    {
     "name": "stdout",
     "output_type": "stream",
     "text": [
      "<_sre.SRE_Match object at 0x7fc76402ec60>\n"
     ]
    }
   ],
   "source": [
    "print (re.search(r\"\\\\drogba\", st))"
   ]
  },
  {
   "cell_type": "code",
   "execution_count": 42,
   "metadata": {},
   "outputs": [
    {
     "name": "stdout",
     "output_type": "stream",
     "text": [
      "\n",
      "Keep the blue flag\n",
      "flying high\n",
      "Chelsea\n",
      "\n"
     ]
    }
   ],
   "source": [
    "st = '''\n",
    "Keep the blue flag\n",
    "flying high\n",
    "Chelsea\n",
    "'''\n",
    "print st\n"
   ]
  },
  {
   "cell_type": "code",
   "execution_count": 44,
   "metadata": {},
   "outputs": [
    {
     "name": "stdout",
     "output_type": "stream",
     "text": [
      " Keep the blue flag flying high Chelsea \n"
     ]
    }
   ],
   "source": [
    "regex = re.compile(\"\\n\")\n",
    "newst = regex.sub(\" \", st)\n",
    "print newst"
   ]
  },
  {
   "cell_type": "code",
   "execution_count": 45,
   "metadata": {},
   "outputs": [],
   "source": [
    "st = \"12345\""
   ]
  },
  {
   "cell_type": "code",
   "execution_count": 46,
   "metadata": {},
   "outputs": [
    {
     "data": {
      "text/plain": [
       "['1', '2', '3', '4', '5']"
      ]
     },
     "execution_count": 46,
     "metadata": {},
     "output_type": "execute_result"
    }
   ],
   "source": [
    "re.findall(\"\\d\", st)"
   ]
  },
  {
   "cell_type": "code",
   "execution_count": 47,
   "metadata": {},
   "outputs": [
    {
     "data": {
      "text/plain": [
       "[]"
      ]
     },
     "execution_count": 47,
     "metadata": {},
     "output_type": "execute_result"
    }
   ],
   "source": [
    "re.findall(\"\\D\", st)"
   ]
  },
  {
   "cell_type": "code",
   "execution_count": 49,
   "metadata": {},
   "outputs": [
    {
     "data": {
      "text/plain": [
       "['12345']"
      ]
     },
     "execution_count": 49,
     "metadata": {},
     "output_type": "execute_result"
    }
   ],
   "source": [
    "re.findall(\"\\d{5}\", st)"
   ]
  },
  {
   "cell_type": "code",
   "execution_count": 50,
   "metadata": {},
   "outputs": [],
   "source": [
    "st = \"123 1234 12345 123456 1234567\""
   ]
  },
  {
   "cell_type": "code",
   "execution_count": 52,
   "metadata": {},
   "outputs": [
    {
     "data": {
      "text/plain": [
       "['12345', '123456', '1234567']"
      ]
     },
     "execution_count": 52,
     "metadata": {},
     "output_type": "execute_result"
    }
   ],
   "source": [
    "re.findall(\"\\d{5,7}\", st)"
   ]
  },
  {
   "cell_type": "markdown",
   "metadata": {},
   "source": [
    "verify the phone numbers "
   ]
  },
  {
   "cell_type": "code",
   "execution_count": 53,
   "metadata": {},
   "outputs": [],
   "source": [
    "# \\w = [a-zA-Z0-9_]\n",
    "# \\W = [^a-zA-Z0-9_]\n",
    "# \\s = [\\f\\n\\r\\t\\v]"
   ]
  },
  {
   "cell_type": "code",
   "execution_count": 54,
   "metadata": {},
   "outputs": [],
   "source": [
    "phn = \"412-555-1212\""
   ]
  },
  {
   "cell_type": "code",
   "execution_count": 56,
   "metadata": {},
   "outputs": [
    {
     "name": "stdout",
     "output_type": "stream",
     "text": [
      "A phone number\n"
     ]
    }
   ],
   "source": [
    "if re.search(\"\\w{3}-\\w{3}-\\w{4}\", phn):\n",
    "    print \"A phone number\""
   ]
  },
  {
   "cell_type": "code",
   "execution_count": 58,
   "metadata": {},
   "outputs": [
    {
     "name": "stdout",
     "output_type": "stream",
     "text": [
      "Valid Name\n"
     ]
    }
   ],
   "source": [
    "if re.search(\"\\w{2,20}\\s\\w{2,20}\", \"Suraj Prakash\"):\n",
    "    print \"Valid Name\""
   ]
  },
  {
   "cell_type": "code",
   "execution_count": 59,
   "metadata": {},
   "outputs": [],
   "source": [
    "email = \"hmssuraj1@gmail.com, hms@.com, @gmail.com, hms@.com\""
   ]
  },
  {
   "cell_type": "code",
   "execution_count": 60,
   "metadata": {},
   "outputs": [
    {
     "data": {
      "text/plain": [
       "['hmssuraj1@gmail.com']"
      ]
     },
     "execution_count": 60,
     "metadata": {},
     "output_type": "execute_result"
    }
   ],
   "source": [
    "re.findall(\"[\\w._%+-]{1,20}@[\\w.-]{2,20}.[A-Za-z]{2,3}\", email)"
   ]
  },
  {
   "cell_type": "code",
   "execution_count": 72,
   "metadata": {},
   "outputs": [],
   "source": [
    "import urllib\n",
    "import sys  \n",
    "\n",
    "reload(sys)  \n",
    "sys.setdefaultencoding('utf8')"
   ]
  },
  {
   "cell_type": "code",
   "execution_count": 73,
   "metadata": {},
   "outputs": [],
   "source": [
    "url = \"https://www.summet.com/dmsi/html/codesamples/addresses.html\"\n",
    "response = urllib.urlopen(url)\n",
    "\n",
    "html = response.read().encode('utf-8')"
   ]
  },
  {
   "cell_type": "code",
   "execution_count": 74,
   "metadata": {},
   "outputs": [],
   "source": [
    "htmlStr = html.decode()"
   ]
  },
  {
   "cell_type": "code",
   "execution_count": 75,
   "metadata": {},
   "outputs": [],
   "source": [
    "data = re.findall(\"\\(\\d{3}\\) \\d{3}-\\d{4}\", htmlStr)"
   ]
  },
  {
   "cell_type": "code",
   "execution_count": 76,
   "metadata": {},
   "outputs": [
    {
     "data": {
      "text/plain": [
       "[u'(257) 563-7401',\n",
       " u'(372) 587-2335',\n",
       " u'(786) 713-8616',\n",
       " u'(793) 151-6230',\n",
       " u'(492) 709-6392',\n",
       " u'(654) 393-5734',\n",
       " u'(404) 960-3807',\n",
       " u'(314) 244-6306',\n",
       " u'(947) 278-5929',\n",
       " u'(684) 579-1879',\n",
       " u'(389) 737-2852',\n",
       " u'(660) 663-4518',\n",
       " u'(608) 265-2215',\n",
       " u'(959) 119-8364',\n",
       " u'(468) 353-2641',\n",
       " u'(248) 675-4007',\n",
       " u'(939) 353-1107',\n",
       " u'(570) 873-7090',\n",
       " u'(302) 259-2375',\n",
       " u'(717) 450-4729',\n",
       " u'(453) 391-4650',\n",
       " u'(559) 104-5475',\n",
       " u'(387) 142-9434',\n",
       " u'(516) 745-4496',\n",
       " u'(326) 677-3419',\n",
       " u'(746) 679-2470',\n",
       " u'(455) 430-0989',\n",
       " u'(490) 936-4694',\n",
       " u'(985) 834-8285',\n",
       " u'(662) 661-1446',\n",
       " u'(802) 668-8240',\n",
       " u'(477) 768-9247',\n",
       " u'(791) 239-9057',\n",
       " u'(832) 109-0213',\n",
       " u'(837) 196-3274',\n",
       " u'(268) 442-2428',\n",
       " u'(850) 676-5117',\n",
       " u'(861) 546-5032',\n",
       " u'(176) 805-4108',\n",
       " u'(715) 912-6931',\n",
       " u'(993) 554-0563',\n",
       " u'(357) 616-5411',\n",
       " u'(121) 347-0086',\n",
       " u'(304) 506-6314',\n",
       " u'(425) 288-2332',\n",
       " u'(145) 987-4962',\n",
       " u'(187) 582-9707',\n",
       " u'(750) 558-3965',\n",
       " u'(492) 467-3131',\n",
       " u'(774) 914-2510',\n",
       " u'(888) 106-8550',\n",
       " u'(539) 567-3573',\n",
       " u'(693) 337-2849',\n",
       " u'(545) 604-9386',\n",
       " u'(221) 156-5026',\n",
       " u'(414) 876-0865',\n",
       " u'(932) 726-8645',\n",
       " u'(726) 710-9826',\n",
       " u'(622) 594-1662',\n",
       " u'(948) 600-8503',\n",
       " u'(605) 900-7508',\n",
       " u'(716) 977-5775',\n",
       " u'(368) 239-8275',\n",
       " u'(725) 342-0650',\n",
       " u'(711) 993-5187',\n",
       " u'(882) 399-5084',\n",
       " u'(287) 755-9948',\n",
       " u'(659) 551-3389',\n",
       " u'(275) 730-6868',\n",
       " u'(725) 757-4047',\n",
       " u'(314) 882-1496',\n",
       " u'(639) 360-7590',\n",
       " u'(168) 222-1592',\n",
       " u'(896) 303-1164',\n",
       " u'(203) 982-6130',\n",
       " u'(906) 217-1470',\n",
       " u'(614) 514-1269',\n",
       " u'(763) 409-5446',\n",
       " u'(836) 292-5324',\n",
       " u'(926) 709-3295',\n",
       " u'(963) 356-9268',\n",
       " u'(736) 522-8584',\n",
       " u'(410) 483-0352',\n",
       " u'(252) 204-1434',\n",
       " u'(874) 886-4174',\n",
       " u'(581) 379-7573',\n",
       " u'(983) 632-8597',\n",
       " u'(295) 983-3476',\n",
       " u'(873) 392-8802',\n",
       " u'(360) 669-3923',\n",
       " u'(840) 987-9449',\n",
       " u'(422) 517-6053',\n",
       " u'(126) 940-2753',\n",
       " u'(427) 930-5255',\n",
       " u'(689) 721-5145',\n",
       " u'(676) 334-2174',\n",
       " u'(437) 994-5270',\n",
       " u'(564) 908-6970',\n",
       " u'(577) 333-6244',\n",
       " u'(655) 840-6139']"
      ]
     },
     "execution_count": 76,
     "metadata": {},
     "output_type": "execute_result"
    }
   ],
   "source": [
    "data"
   ]
  },
  {
   "cell_type": "code",
   "execution_count": null,
   "metadata": {},
   "outputs": [],
   "source": []
  }
 ],
 "metadata": {
  "kernelspec": {
   "display_name": "Python 2",
   "language": "python",
   "name": "python2"
  },
  "language_info": {
   "codemirror_mode": {
    "name": "ipython",
    "version": 2
   },
   "file_extension": ".py",
   "mimetype": "text/x-python",
   "name": "python",
   "nbconvert_exporter": "python",
   "pygments_lexer": "ipython2",
   "version": "2.7.15"
  }
 },
 "nbformat": 4,
 "nbformat_minor": 2
}
